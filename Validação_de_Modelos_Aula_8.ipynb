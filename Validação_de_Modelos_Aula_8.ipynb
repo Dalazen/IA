{
  "cells": [
    {
      "cell_type": "markdown",
      "metadata": {
        "id": "view-in-github",
        "colab_type": "text"
      },
      "source": [
        "<a href=\"https://colab.research.google.com/github/Dalazen/IA/blob/main/Valida%C3%A7%C3%A3o_de_Modelos_Aula_8.ipynb\" target=\"_parent\"><img src=\"https://colab.research.google.com/assets/colab-badge.svg\" alt=\"Open In Colab\"/></a>"
      ]
    },
    {
      "cell_type": "code",
      "execution_count": null,
      "id": "bd931fb5",
      "metadata": {
        "id": "bd931fb5"
      },
      "outputs": [],
      "source": [
        "# 1. Problema de classificação"
      ]
    },
    {
      "cell_type": "code",
      "execution_count": null,
      "id": "de4347a9",
      "metadata": {
        "id": "de4347a9"
      },
      "outputs": [],
      "source": [
        "# Ler o dataset breas-cancer.data, verificar os atributos e a distribuição da classe"
      ]
    },
    {
      "cell_type": "code",
      "execution_count": null,
      "id": "69dd3688",
      "metadata": {
        "id": "69dd3688"
      },
      "outputs": [],
      "source": [
        "# Converter para 'categorical' todos os atributos do tipo 'object'"
      ]
    },
    {
      "cell_type": "code",
      "execution_count": null,
      "id": "7cf5eb91",
      "metadata": {
        "id": "7cf5eb91"
      },
      "outputs": [],
      "source": [
        "# Obter o cat.codes dos atributos categóricos"
      ]
    },
    {
      "cell_type": "code",
      "execution_count": null,
      "id": "4642a3d4",
      "metadata": {
        "id": "4642a3d4"
      },
      "outputs": [],
      "source": [
        "from sklearn.tree import DecisionTreeClassifier\n",
        "from sklearn.model_selection import cross_val_score\n",
        "from sklearn.naive_bayes import GaussianNB\n",
        "from sklearn.svm import SVC\n",
        "from sklearn.model_selection import train_test_split\n",
        "from sklearn.preprocessing import StandardScaler\n",
        "\n",
        "X = ?\n",
        "y = ?\n",
        "\n",
        "classifiers = {'Arvore': DecisionTreeClassifier(random_state=0),\n",
        "               'Naive Bayes': GaussianNB(),\n",
        "               'SVM': SVC(kernel=\"linear\", C=0.025)}\n",
        "\n",
        "X = StandardScaler().fit_transform(X)\n",
        "\n",
        "X_train, X_test, y_train, y_test = train_test_split(\n",
        "    X, y, test_size=0.3, random_state=42\n",
        ")\n",
        "\n",
        "for clf in classifiers.items():\n",
        "    clf[1].fit(X_train, y_train)\n",
        "    score = clf[1].score(X_test, y_test)\n",
        "    print(score, clf[0])"
      ]
    },
    {
      "cell_type": "code",
      "execution_count": null,
      "id": "bc3d3a22",
      "metadata": {
        "id": "bc3d3a22"
      },
      "outputs": [],
      "source": [
        "# 2. Validação Cruzada (k fold cross-validation, pode ser bom estratificar)"
      ]
    },
    {
      "cell_type": "markdown",
      "id": "4ad37577",
      "metadata": {
        "id": "4ad37577"
      },
      "source": [
        "![grid_search_cross_validation.png](attachment:grid_search_cross_validation.png)"
      ]
    },
    {
      "cell_type": "code",
      "execution_count": null,
      "id": "13944cbc",
      "metadata": {
        "id": "13944cbc"
      },
      "outputs": [],
      "source": [
        "from sklearn.model_selection import cross_val_score\n",
        "\n",
        "clf = ?\n",
        "\n",
        "scores = cross_val_score(clf, X, y, cv=5)"
      ]
    },
    {
      "cell_type": "code",
      "execution_count": null,
      "id": "8dc8b61b",
      "metadata": {
        "id": "8dc8b61b"
      },
      "outputs": [],
      "source": [
        "print(scores)\n",
        "print(\"%0.2f de acurácia com desvio padrão de %0.2f\" % (?, ?))"
      ]
    },
    {
      "cell_type": "code",
      "execution_count": null,
      "id": "4c761d1c",
      "metadata": {
        "id": "4c761d1c"
      },
      "outputs": [],
      "source": [
        "# 3. Precision e Recall"
      ]
    },
    {
      "cell_type": "code",
      "execution_count": null,
      "id": "752f0359",
      "metadata": {
        "id": "752f0359"
      },
      "outputs": [],
      "source": [
        "# P = TP / TP + FP ==> Do total que o algoritmo classificou como positivo, o quanto realmente é positivo?"
      ]
    },
    {
      "cell_type": "code",
      "execution_count": null,
      "id": "69221f3b",
      "metadata": {
        "id": "69221f3b"
      },
      "outputs": [],
      "source": [
        "# R = TP / TP + FN ==> Do total que realmente é positivo, o quanto o algoritmo conseguiu recuperar?"
      ]
    },
    {
      "cell_type": "code",
      "execution_count": null,
      "id": "15532d15",
      "metadata": {
        "id": "15532d15"
      },
      "outputs": [],
      "source": [
        "from sklearn.metrics import precision_recall_fscore_support\n",
        "\n",
        "clf = classifiers['Arvore']\n",
        "clf.fit(X_train, y_train)\n",
        "\n",
        "preds = clf.predict(X_test)\n",
        "\n",
        "precision_recall_fscore_support(y_test, preds, average='macro')"
      ]
    },
    {
      "cell_type": "code",
      "execution_count": null,
      "id": "d808c633",
      "metadata": {
        "id": "d808c633"
      },
      "outputs": [],
      "source": [
        "# Para o Naive Bayes"
      ]
    },
    {
      "cell_type": "code",
      "execution_count": null,
      "id": "6f60889d",
      "metadata": {
        "id": "6f60889d"
      },
      "outputs": [],
      "source": [
        "# Para o SVM"
      ]
    },
    {
      "cell_type": "code",
      "execution_count": null,
      "id": "eaff4f04",
      "metadata": {
        "id": "eaff4f04"
      },
      "outputs": [],
      "source": [
        "# 4. Matriz de confusão"
      ]
    },
    {
      "cell_type": "code",
      "execution_count": null,
      "id": "d2b45a37",
      "metadata": {
        "id": "d2b45a37"
      },
      "outputs": [],
      "source": [
        "from sklearn.metrics import confusion_matrix\n",
        "\n",
        "confusion_matrix(y_test, preds)"
      ]
    },
    {
      "cell_type": "code",
      "execution_count": null,
      "id": "88260b02",
      "metadata": {
        "id": "88260b02"
      },
      "outputs": [],
      "source": [
        "import matplotlib.pyplot as plt\n",
        "from sklearn.metrics import plot_confusion_matrix, confusion_matrix, ConfusionMatrixDisplay\n",
        "cm = confusion_matrix(y_test, preds, labels=clf.classes_)\n",
        "disp = ConfusionMatrixDisplay(confusion_matrix=cm, display_labels=clf.classes_)\n",
        "disp.plot()\n",
        "plt.show()"
      ]
    },
    {
      "cell_type": "code",
      "execution_count": null,
      "id": "28ff45d1",
      "metadata": {
        "id": "28ff45d1"
      },
      "outputs": [],
      "source": [
        "# 5. Curva RoC (probabilidade de separação de classes em diferentes limiares)\n",
        "# Referência: https://towardsdatascience.com/understanding-auc-roc-curve-68b2303cc9c5\n",
        "# Referência: https://scikit-learn.org/stable/auto_examples/model_selection/plot_roc.html#sphx-glr-auto-examples-model-selection-plot-roc-py"
      ]
    },
    {
      "cell_type": "markdown",
      "id": "c249c478",
      "metadata": {
        "id": "c249c478"
      },
      "source": [
        "![sphx_glr_plot_roc_001.png](attachment:sphx_glr_plot_roc_001.png)"
      ]
    },
    {
      "cell_type": "markdown",
      "id": "e71c0aa4",
      "metadata": {
        "id": "e71c0aa4"
      },
      "source": [
        "![1_Uu-t4pOotRQFoyrfqEvIEg.png](attachment:1_Uu-t4pOotRQFoyrfqEvIEg.png)"
      ]
    },
    {
      "cell_type": "markdown",
      "id": "ecb47cf3",
      "metadata": {
        "id": "ecb47cf3"
      },
      "source": [
        "![1_yF8hvKR9eNfqqej2JnVKzg.png](attachment:1_yF8hvKR9eNfqqej2JnVKzg.png)"
      ]
    },
    {
      "cell_type": "code",
      "execution_count": null,
      "id": "ce1896f3",
      "metadata": {
        "id": "ce1896f3"
      },
      "outputs": [],
      "source": [
        "from sklearn.metrics import RocCurveDisplay\n",
        "\n",
        "ax = plt.gca()\n",
        "clf = classifiers['Arvore']\n",
        "clf2 = classifiers['Naive Bayes']\n",
        "rfc_disp = RocCurveDisplay.from_estimator(clf, X_test, y_test, ax=ax, alpha=0.8)\n",
        "svc_disp = RocCurveDisplay.from_estimator(clf2, X_test, y_test)\n",
        "svc_disp.plot(ax=ax, alpha=0.8)\n",
        "\n",
        "plt.show()"
      ]
    },
    {
      "cell_type": "markdown",
      "source": [
        "# Atividade\n"
      ],
      "metadata": {
        "id": "3L-qmY0vypzZ"
      },
      "id": "3L-qmY0vypzZ"
    },
    {
      "cell_type": "code",
      "source": [
        "import pandas as pd\n",
        "# import numpy as np\n",
        "# import matplotlib.pyplot as plt\n",
        "# import seaborn as sns"
      ],
      "metadata": {
        "id": "4pz-E32vysZb"
      },
      "id": "4pz-E32vysZb",
      "execution_count": 8,
      "outputs": []
    },
    {
      "cell_type": "code",
      "source": [
        "cols = ['age', 'workclass', 'fnlwgt', 'education', 'education_num',\n",
        "        'marital-status', 'occupation', 'relationship', 'race',\n",
        "        'sex', 'capital-gain', 'capital-loss', 'hours-per-week',\n",
        "        'native-country', 'yearly-income']\n",
        "df = pd.read_csv('adult.data', index_col=None, names=cols, dtype=str)\n",
        "df.head()"
      ],
      "metadata": {
        "id": "1PdPmvx_y-Lo",
        "colab": {
          "base_uri": "https://localhost:8080/",
          "height": 424
        },
        "outputId": "6d88c6d3-b6af-4d83-efda-683385bf48b2"
      },
      "id": "1PdPmvx_y-Lo",
      "execution_count": 9,
      "outputs": [
        {
          "output_type": "execute_result",
          "data": {
            "text/plain": [
              "  age          workclass   fnlwgt   education education_num  \\\n",
              "0  39          State-gov    77516   Bachelors            13   \n",
              "1  50   Self-emp-not-inc    83311   Bachelors            13   \n",
              "2  38            Private   215646     HS-grad             9   \n",
              "3  53            Private   234721        11th             7   \n",
              "4  28            Private   338409   Bachelors            13   \n",
              "\n",
              "        marital-status          occupation    relationship    race      sex  \\\n",
              "0        Never-married        Adm-clerical   Not-in-family   White     Male   \n",
              "1   Married-civ-spouse     Exec-managerial         Husband   White     Male   \n",
              "2             Divorced   Handlers-cleaners   Not-in-family   White     Male   \n",
              "3   Married-civ-spouse   Handlers-cleaners         Husband   Black     Male   \n",
              "4   Married-civ-spouse      Prof-specialty            Wife   Black   Female   \n",
              "\n",
              "  capital-gain capital-loss hours-per-week  native-country yearly-income  \n",
              "0         2174            0             40   United-States         <=50K  \n",
              "1            0            0             13   United-States         <=50K  \n",
              "2            0            0             40   United-States         <=50K  \n",
              "3            0            0             40   United-States         <=50K  \n",
              "4            0            0             40            Cuba         <=50K  "
            ],
            "text/html": [
              "\n",
              "  <div id=\"df-82b2f817-dfdf-4230-bb4b-8c5809ff5b26\">\n",
              "    <div class=\"colab-df-container\">\n",
              "      <div>\n",
              "<style scoped>\n",
              "    .dataframe tbody tr th:only-of-type {\n",
              "        vertical-align: middle;\n",
              "    }\n",
              "\n",
              "    .dataframe tbody tr th {\n",
              "        vertical-align: top;\n",
              "    }\n",
              "\n",
              "    .dataframe thead th {\n",
              "        text-align: right;\n",
              "    }\n",
              "</style>\n",
              "<table border=\"1\" class=\"dataframe\">\n",
              "  <thead>\n",
              "    <tr style=\"text-align: right;\">\n",
              "      <th></th>\n",
              "      <th>age</th>\n",
              "      <th>workclass</th>\n",
              "      <th>fnlwgt</th>\n",
              "      <th>education</th>\n",
              "      <th>education_num</th>\n",
              "      <th>marital-status</th>\n",
              "      <th>occupation</th>\n",
              "      <th>relationship</th>\n",
              "      <th>race</th>\n",
              "      <th>sex</th>\n",
              "      <th>capital-gain</th>\n",
              "      <th>capital-loss</th>\n",
              "      <th>hours-per-week</th>\n",
              "      <th>native-country</th>\n",
              "      <th>yearly-income</th>\n",
              "    </tr>\n",
              "  </thead>\n",
              "  <tbody>\n",
              "    <tr>\n",
              "      <th>0</th>\n",
              "      <td>39</td>\n",
              "      <td>State-gov</td>\n",
              "      <td>77516</td>\n",
              "      <td>Bachelors</td>\n",
              "      <td>13</td>\n",
              "      <td>Never-married</td>\n",
              "      <td>Adm-clerical</td>\n",
              "      <td>Not-in-family</td>\n",
              "      <td>White</td>\n",
              "      <td>Male</td>\n",
              "      <td>2174</td>\n",
              "      <td>0</td>\n",
              "      <td>40</td>\n",
              "      <td>United-States</td>\n",
              "      <td>&lt;=50K</td>\n",
              "    </tr>\n",
              "    <tr>\n",
              "      <th>1</th>\n",
              "      <td>50</td>\n",
              "      <td>Self-emp-not-inc</td>\n",
              "      <td>83311</td>\n",
              "      <td>Bachelors</td>\n",
              "      <td>13</td>\n",
              "      <td>Married-civ-spouse</td>\n",
              "      <td>Exec-managerial</td>\n",
              "      <td>Husband</td>\n",
              "      <td>White</td>\n",
              "      <td>Male</td>\n",
              "      <td>0</td>\n",
              "      <td>0</td>\n",
              "      <td>13</td>\n",
              "      <td>United-States</td>\n",
              "      <td>&lt;=50K</td>\n",
              "    </tr>\n",
              "    <tr>\n",
              "      <th>2</th>\n",
              "      <td>38</td>\n",
              "      <td>Private</td>\n",
              "      <td>215646</td>\n",
              "      <td>HS-grad</td>\n",
              "      <td>9</td>\n",
              "      <td>Divorced</td>\n",
              "      <td>Handlers-cleaners</td>\n",
              "      <td>Not-in-family</td>\n",
              "      <td>White</td>\n",
              "      <td>Male</td>\n",
              "      <td>0</td>\n",
              "      <td>0</td>\n",
              "      <td>40</td>\n",
              "      <td>United-States</td>\n",
              "      <td>&lt;=50K</td>\n",
              "    </tr>\n",
              "    <tr>\n",
              "      <th>3</th>\n",
              "      <td>53</td>\n",
              "      <td>Private</td>\n",
              "      <td>234721</td>\n",
              "      <td>11th</td>\n",
              "      <td>7</td>\n",
              "      <td>Married-civ-spouse</td>\n",
              "      <td>Handlers-cleaners</td>\n",
              "      <td>Husband</td>\n",
              "      <td>Black</td>\n",
              "      <td>Male</td>\n",
              "      <td>0</td>\n",
              "      <td>0</td>\n",
              "      <td>40</td>\n",
              "      <td>United-States</td>\n",
              "      <td>&lt;=50K</td>\n",
              "    </tr>\n",
              "    <tr>\n",
              "      <th>4</th>\n",
              "      <td>28</td>\n",
              "      <td>Private</td>\n",
              "      <td>338409</td>\n",
              "      <td>Bachelors</td>\n",
              "      <td>13</td>\n",
              "      <td>Married-civ-spouse</td>\n",
              "      <td>Prof-specialty</td>\n",
              "      <td>Wife</td>\n",
              "      <td>Black</td>\n",
              "      <td>Female</td>\n",
              "      <td>0</td>\n",
              "      <td>0</td>\n",
              "      <td>40</td>\n",
              "      <td>Cuba</td>\n",
              "      <td>&lt;=50K</td>\n",
              "    </tr>\n",
              "  </tbody>\n",
              "</table>\n",
              "</div>\n",
              "      <button class=\"colab-df-convert\" onclick=\"convertToInteractive('df-82b2f817-dfdf-4230-bb4b-8c5809ff5b26')\"\n",
              "              title=\"Convert this dataframe to an interactive table.\"\n",
              "              style=\"display:none;\">\n",
              "        \n",
              "  <svg xmlns=\"http://www.w3.org/2000/svg\" height=\"24px\"viewBox=\"0 0 24 24\"\n",
              "       width=\"24px\">\n",
              "    <path d=\"M0 0h24v24H0V0z\" fill=\"none\"/>\n",
              "    <path d=\"M18.56 5.44l.94 2.06.94-2.06 2.06-.94-2.06-.94-.94-2.06-.94 2.06-2.06.94zm-11 1L8.5 8.5l.94-2.06 2.06-.94-2.06-.94L8.5 2.5l-.94 2.06-2.06.94zm10 10l.94 2.06.94-2.06 2.06-.94-2.06-.94-.94-2.06-.94 2.06-2.06.94z\"/><path d=\"M17.41 7.96l-1.37-1.37c-.4-.4-.92-.59-1.43-.59-.52 0-1.04.2-1.43.59L10.3 9.45l-7.72 7.72c-.78.78-.78 2.05 0 2.83L4 21.41c.39.39.9.59 1.41.59.51 0 1.02-.2 1.41-.59l7.78-7.78 2.81-2.81c.8-.78.8-2.07 0-2.86zM5.41 20L4 18.59l7.72-7.72 1.47 1.35L5.41 20z\"/>\n",
              "  </svg>\n",
              "      </button>\n",
              "      \n",
              "  <style>\n",
              "    .colab-df-container {\n",
              "      display:flex;\n",
              "      flex-wrap:wrap;\n",
              "      gap: 12px;\n",
              "    }\n",
              "\n",
              "    .colab-df-convert {\n",
              "      background-color: #E8F0FE;\n",
              "      border: none;\n",
              "      border-radius: 50%;\n",
              "      cursor: pointer;\n",
              "      display: none;\n",
              "      fill: #1967D2;\n",
              "      height: 32px;\n",
              "      padding: 0 0 0 0;\n",
              "      width: 32px;\n",
              "    }\n",
              "\n",
              "    .colab-df-convert:hover {\n",
              "      background-color: #E2EBFA;\n",
              "      box-shadow: 0px 1px 2px rgba(60, 64, 67, 0.3), 0px 1px 3px 1px rgba(60, 64, 67, 0.15);\n",
              "      fill: #174EA6;\n",
              "    }\n",
              "\n",
              "    [theme=dark] .colab-df-convert {\n",
              "      background-color: #3B4455;\n",
              "      fill: #D2E3FC;\n",
              "    }\n",
              "\n",
              "    [theme=dark] .colab-df-convert:hover {\n",
              "      background-color: #434B5C;\n",
              "      box-shadow: 0px 1px 3px 1px rgba(0, 0, 0, 0.15);\n",
              "      filter: drop-shadow(0px 1px 2px rgba(0, 0, 0, 0.3));\n",
              "      fill: #FFFFFF;\n",
              "    }\n",
              "  </style>\n",
              "\n",
              "      <script>\n",
              "        const buttonEl =\n",
              "          document.querySelector('#df-82b2f817-dfdf-4230-bb4b-8c5809ff5b26 button.colab-df-convert');\n",
              "        buttonEl.style.display =\n",
              "          google.colab.kernel.accessAllowed ? 'block' : 'none';\n",
              "\n",
              "        async function convertToInteractive(key) {\n",
              "          const element = document.querySelector('#df-82b2f817-dfdf-4230-bb4b-8c5809ff5b26');\n",
              "          const dataTable =\n",
              "            await google.colab.kernel.invokeFunction('convertToInteractive',\n",
              "                                                     [key], {});\n",
              "          if (!dataTable) return;\n",
              "\n",
              "          const docLinkHtml = 'Like what you see? Visit the ' +\n",
              "            '<a target=\"_blank\" href=https://colab.research.google.com/notebooks/data_table.ipynb>data table notebook</a>'\n",
              "            + ' to learn more about interactive tables.';\n",
              "          element.innerHTML = '';\n",
              "          dataTable['output_type'] = 'display_data';\n",
              "          await google.colab.output.renderOutput(dataTable, element);\n",
              "          const docLink = document.createElement('div');\n",
              "          docLink.innerHTML = docLinkHtml;\n",
              "          element.appendChild(docLink);\n",
              "        }\n",
              "      </script>\n",
              "    </div>\n",
              "  </div>\n",
              "  "
            ]
          },
          "metadata": {},
          "execution_count": 9
        }
      ]
    },
    {
      "cell_type": "code",
      "source": [
        "# Convert 'object' to 'categorical'\n",
        "for c in df.columns:\n",
        "  if df[c].dtypes == \"object\":\n",
        "    df[c] = df[c].astype(\"category\")"
      ],
      "metadata": {
        "id": "RBb7cCK_EjiK"
      },
      "id": "RBb7cCK_EjiK",
      "execution_count": 10,
      "outputs": []
    },
    {
      "cell_type": "code",
      "source": [
        "# Categorize each categorical variable into number using cat.codes\n",
        "for c in df.columns:\n",
        "    if df[c].dtype.name == \"category\":\n",
        "        df[c] = df[c].cat.codes\n",
        "df.head()"
      ],
      "metadata": {
        "colab": {
          "base_uri": "https://localhost:8080/",
          "height": 285
        },
        "id": "tRItK9lHFNvg",
        "outputId": "9dd8b9a3-62f1-4075-9e47-b3e2f0d618bc"
      },
      "id": "tRItK9lHFNvg",
      "execution_count": 11,
      "outputs": [
        {
          "output_type": "execute_result",
          "data": {
            "text/plain": [
              "   age  workclass  fnlwgt  education  education_num  marital-status  \\\n",
              "0   22          7   20429          9              4               4   \n",
              "1   33          6   20691          9              4               2   \n",
              "2   21          4   10268         11             15               0   \n",
              "3   36          4   11553          1             13               2   \n",
              "4   11          4   16170          9              4               2   \n",
              "\n",
              "   occupation  relationship  race  sex  capital-gain  capital-loss  \\\n",
              "0           1             1     4    1            33             0   \n",
              "1           4             0     4    1             0             0   \n",
              "2           6             1     4    1             0             0   \n",
              "3           6             0     2    1             0             0   \n",
              "4          10             5     2    0             0             0   \n",
              "\n",
              "   hours-per-week  native-country  yearly-income  \n",
              "0              34              39              0  \n",
              "1               4              39              0  \n",
              "2              34              39              0  \n",
              "3              34              39              0  \n",
              "4              34               5              0  "
            ],
            "text/html": [
              "\n",
              "  <div id=\"df-392c8cdb-6d66-4bcf-b1c1-2d54efad566a\">\n",
              "    <div class=\"colab-df-container\">\n",
              "      <div>\n",
              "<style scoped>\n",
              "    .dataframe tbody tr th:only-of-type {\n",
              "        vertical-align: middle;\n",
              "    }\n",
              "\n",
              "    .dataframe tbody tr th {\n",
              "        vertical-align: top;\n",
              "    }\n",
              "\n",
              "    .dataframe thead th {\n",
              "        text-align: right;\n",
              "    }\n",
              "</style>\n",
              "<table border=\"1\" class=\"dataframe\">\n",
              "  <thead>\n",
              "    <tr style=\"text-align: right;\">\n",
              "      <th></th>\n",
              "      <th>age</th>\n",
              "      <th>workclass</th>\n",
              "      <th>fnlwgt</th>\n",
              "      <th>education</th>\n",
              "      <th>education_num</th>\n",
              "      <th>marital-status</th>\n",
              "      <th>occupation</th>\n",
              "      <th>relationship</th>\n",
              "      <th>race</th>\n",
              "      <th>sex</th>\n",
              "      <th>capital-gain</th>\n",
              "      <th>capital-loss</th>\n",
              "      <th>hours-per-week</th>\n",
              "      <th>native-country</th>\n",
              "      <th>yearly-income</th>\n",
              "    </tr>\n",
              "  </thead>\n",
              "  <tbody>\n",
              "    <tr>\n",
              "      <th>0</th>\n",
              "      <td>22</td>\n",
              "      <td>7</td>\n",
              "      <td>20429</td>\n",
              "      <td>9</td>\n",
              "      <td>4</td>\n",
              "      <td>4</td>\n",
              "      <td>1</td>\n",
              "      <td>1</td>\n",
              "      <td>4</td>\n",
              "      <td>1</td>\n",
              "      <td>33</td>\n",
              "      <td>0</td>\n",
              "      <td>34</td>\n",
              "      <td>39</td>\n",
              "      <td>0</td>\n",
              "    </tr>\n",
              "    <tr>\n",
              "      <th>1</th>\n",
              "      <td>33</td>\n",
              "      <td>6</td>\n",
              "      <td>20691</td>\n",
              "      <td>9</td>\n",
              "      <td>4</td>\n",
              "      <td>2</td>\n",
              "      <td>4</td>\n",
              "      <td>0</td>\n",
              "      <td>4</td>\n",
              "      <td>1</td>\n",
              "      <td>0</td>\n",
              "      <td>0</td>\n",
              "      <td>4</td>\n",
              "      <td>39</td>\n",
              "      <td>0</td>\n",
              "    </tr>\n",
              "    <tr>\n",
              "      <th>2</th>\n",
              "      <td>21</td>\n",
              "      <td>4</td>\n",
              "      <td>10268</td>\n",
              "      <td>11</td>\n",
              "      <td>15</td>\n",
              "      <td>0</td>\n",
              "      <td>6</td>\n",
              "      <td>1</td>\n",
              "      <td>4</td>\n",
              "      <td>1</td>\n",
              "      <td>0</td>\n",
              "      <td>0</td>\n",
              "      <td>34</td>\n",
              "      <td>39</td>\n",
              "      <td>0</td>\n",
              "    </tr>\n",
              "    <tr>\n",
              "      <th>3</th>\n",
              "      <td>36</td>\n",
              "      <td>4</td>\n",
              "      <td>11553</td>\n",
              "      <td>1</td>\n",
              "      <td>13</td>\n",
              "      <td>2</td>\n",
              "      <td>6</td>\n",
              "      <td>0</td>\n",
              "      <td>2</td>\n",
              "      <td>1</td>\n",
              "      <td>0</td>\n",
              "      <td>0</td>\n",
              "      <td>34</td>\n",
              "      <td>39</td>\n",
              "      <td>0</td>\n",
              "    </tr>\n",
              "    <tr>\n",
              "      <th>4</th>\n",
              "      <td>11</td>\n",
              "      <td>4</td>\n",
              "      <td>16170</td>\n",
              "      <td>9</td>\n",
              "      <td>4</td>\n",
              "      <td>2</td>\n",
              "      <td>10</td>\n",
              "      <td>5</td>\n",
              "      <td>2</td>\n",
              "      <td>0</td>\n",
              "      <td>0</td>\n",
              "      <td>0</td>\n",
              "      <td>34</td>\n",
              "      <td>5</td>\n",
              "      <td>0</td>\n",
              "    </tr>\n",
              "  </tbody>\n",
              "</table>\n",
              "</div>\n",
              "      <button class=\"colab-df-convert\" onclick=\"convertToInteractive('df-392c8cdb-6d66-4bcf-b1c1-2d54efad566a')\"\n",
              "              title=\"Convert this dataframe to an interactive table.\"\n",
              "              style=\"display:none;\">\n",
              "        \n",
              "  <svg xmlns=\"http://www.w3.org/2000/svg\" height=\"24px\"viewBox=\"0 0 24 24\"\n",
              "       width=\"24px\">\n",
              "    <path d=\"M0 0h24v24H0V0z\" fill=\"none\"/>\n",
              "    <path d=\"M18.56 5.44l.94 2.06.94-2.06 2.06-.94-2.06-.94-.94-2.06-.94 2.06-2.06.94zm-11 1L8.5 8.5l.94-2.06 2.06-.94-2.06-.94L8.5 2.5l-.94 2.06-2.06.94zm10 10l.94 2.06.94-2.06 2.06-.94-2.06-.94-.94-2.06-.94 2.06-2.06.94z\"/><path d=\"M17.41 7.96l-1.37-1.37c-.4-.4-.92-.59-1.43-.59-.52 0-1.04.2-1.43.59L10.3 9.45l-7.72 7.72c-.78.78-.78 2.05 0 2.83L4 21.41c.39.39.9.59 1.41.59.51 0 1.02-.2 1.41-.59l7.78-7.78 2.81-2.81c.8-.78.8-2.07 0-2.86zM5.41 20L4 18.59l7.72-7.72 1.47 1.35L5.41 20z\"/>\n",
              "  </svg>\n",
              "      </button>\n",
              "      \n",
              "  <style>\n",
              "    .colab-df-container {\n",
              "      display:flex;\n",
              "      flex-wrap:wrap;\n",
              "      gap: 12px;\n",
              "    }\n",
              "\n",
              "    .colab-df-convert {\n",
              "      background-color: #E8F0FE;\n",
              "      border: none;\n",
              "      border-radius: 50%;\n",
              "      cursor: pointer;\n",
              "      display: none;\n",
              "      fill: #1967D2;\n",
              "      height: 32px;\n",
              "      padding: 0 0 0 0;\n",
              "      width: 32px;\n",
              "    }\n",
              "\n",
              "    .colab-df-convert:hover {\n",
              "      background-color: #E2EBFA;\n",
              "      box-shadow: 0px 1px 2px rgba(60, 64, 67, 0.3), 0px 1px 3px 1px rgba(60, 64, 67, 0.15);\n",
              "      fill: #174EA6;\n",
              "    }\n",
              "\n",
              "    [theme=dark] .colab-df-convert {\n",
              "      background-color: #3B4455;\n",
              "      fill: #D2E3FC;\n",
              "    }\n",
              "\n",
              "    [theme=dark] .colab-df-convert:hover {\n",
              "      background-color: #434B5C;\n",
              "      box-shadow: 0px 1px 3px 1px rgba(0, 0, 0, 0.15);\n",
              "      filter: drop-shadow(0px 1px 2px rgba(0, 0, 0, 0.3));\n",
              "      fill: #FFFFFF;\n",
              "    }\n",
              "  </style>\n",
              "\n",
              "      <script>\n",
              "        const buttonEl =\n",
              "          document.querySelector('#df-392c8cdb-6d66-4bcf-b1c1-2d54efad566a button.colab-df-convert');\n",
              "        buttonEl.style.display =\n",
              "          google.colab.kernel.accessAllowed ? 'block' : 'none';\n",
              "\n",
              "        async function convertToInteractive(key) {\n",
              "          const element = document.querySelector('#df-392c8cdb-6d66-4bcf-b1c1-2d54efad566a');\n",
              "          const dataTable =\n",
              "            await google.colab.kernel.invokeFunction('convertToInteractive',\n",
              "                                                     [key], {});\n",
              "          if (!dataTable) return;\n",
              "\n",
              "          const docLinkHtml = 'Like what you see? Visit the ' +\n",
              "            '<a target=\"_blank\" href=https://colab.research.google.com/notebooks/data_table.ipynb>data table notebook</a>'\n",
              "            + ' to learn more about interactive tables.';\n",
              "          element.innerHTML = '';\n",
              "          dataTable['output_type'] = 'display_data';\n",
              "          await google.colab.output.renderOutput(dataTable, element);\n",
              "          const docLink = document.createElement('div');\n",
              "          docLink.innerHTML = docLinkHtml;\n",
              "          element.appendChild(docLink);\n",
              "        }\n",
              "      </script>\n",
              "    </div>\n",
              "  </div>\n",
              "  "
            ]
          },
          "metadata": {},
          "execution_count": 11
        }
      ]
    },
    {
      "cell_type": "code",
      "source": [
        "from sklearn.tree import DecisionTreeClassifier\n",
        "from sklearn.model_selection import cross_val_score\n",
        "from sklearn.naive_bayes import GaussianNB\n",
        "from sklearn.svm import SVC\n",
        "from sklearn.model_selection import train_test_split\n",
        "from sklearn.preprocessing import StandardScaler"
      ],
      "metadata": {
        "id": "D4b06m4vFs_2"
      },
      "id": "D4b06m4vFs_2",
      "execution_count": 7,
      "outputs": []
    },
    {
      "cell_type": "code",
      "source": [
        "classe = 'yearly-income'\n",
        "\n",
        "X = df.drop([classe], axis=1)\n",
        "y = df[classe]\n",
        "\n",
        "classifiers = {'Decision Tree': DecisionTreeClassifier(random_state=0),\n",
        "               'Naive Bayes': GaussianNB(),\n",
        "               'SVM': SVC(kernel=\"linear\", C=0.025)}\n",
        "\n",
        "X = StandardScaler().fit_transform(X)\n",
        "\n",
        "X_train, X_test, y_train, y_test = train_test_split(X, y, test_size=0.4, random_state=42)\n",
        "\n",
        "for clf in classifiers.items():\n",
        "    clf[1].fit(X_train, y_train)\n",
        "    score = clf[1].score(X_test, y_test)\n",
        "    print(score, clf[0])"
      ],
      "metadata": {
        "colab": {
          "base_uri": "https://localhost:8080/"
        },
        "id": "a0QAxeXuGRnz",
        "outputId": "d99b34f4-0154-4a48-a1ee-01763bac312f"
      },
      "id": "a0QAxeXuGRnz",
      "execution_count": 13,
      "outputs": [
        {
          "output_type": "stream",
          "name": "stdout",
          "text": [
            "0.803531669865643 Decision Tree\n",
            "0.8119769673704414 Naive Bayes\n",
            "0.7857965451055662 SVM\n"
          ]
        }
      ]
    },
    {
      "cell_type": "code",
      "source": [
        "from sklearn.model_selection import cross_val_score\n",
        "from sklearn.metrics import precision_recall_fscore_support"
      ],
      "metadata": {
        "id": "EcvzGnSmGWT9"
      },
      "id": "EcvzGnSmGWT9",
      "execution_count": 31,
      "outputs": []
    },
    {
      "cell_type": "code",
      "source": [
        "clf = classifiers['Decision Tree']\n",
        "scores = cross_val_score(clf, X, y, cv=5)\n",
        "\n",
        "print(scores)\n",
        "print(f\"Accuracy: {scores.mean()}\") \n",
        "print(f\"Standart Deviation {scores.std()}\")"
      ],
      "metadata": {
        "colab": {
          "base_uri": "https://localhost:8080/"
        },
        "id": "v_ttLy7BXEwE",
        "outputId": "1697827d-3423-4e01-d7e8-e444e45f1ce3"
      },
      "id": "v_ttLy7BXEwE",
      "execution_count": 20,
      "outputs": [
        {
          "output_type": "stream",
          "name": "stdout",
          "text": [
            "[0.80009212 0.8022113  0.80681818 0.81142506 0.81418919]\n",
            "Accuracy: 0.8069471716178303\n",
            "Standart Deviation 0.005327947043276329\n"
          ]
        }
      ]
    },
    {
      "cell_type": "code",
      "source": [
        "clf = classifiers['Decision Tree']\n",
        "clf.fit(X_train, y_train)\n",
        "preds = clf.predict(X_test)\n",
        "\n",
        "precision_recall_fscore_support(y_test, preds, average='macro')"
      ],
      "metadata": {
        "colab": {
          "base_uri": "https://localhost:8080/"
        },
        "id": "sUYiS89IYO9o",
        "outputId": "872952c8-3bb5-4e09-eb6c-99aa4f73837a"
      },
      "id": "sUYiS89IYO9o",
      "execution_count": 25,
      "outputs": [
        {
          "output_type": "execute_result",
          "data": {
            "text/plain": [
              "(0.731471767425554, 0.7367961034956501, 0.7340366004245666, None)"
            ]
          },
          "metadata": {},
          "execution_count": 25
        }
      ]
    },
    {
      "cell_type": "code",
      "source": [
        "clf = classifiers['Naive Bayes']\n",
        "clf.fit(X_train, y_train)\n",
        "preds = clf.predict(X_test)\n",
        "\n",
        "precision_recall_fscore_support(y_test, preds, average='macro')"
      ],
      "metadata": {
        "colab": {
          "base_uri": "https://localhost:8080/"
        },
        "id": "KyJlIKIxYumL",
        "outputId": "80cdecd8-5610-4dfd-da36-39411d7c7a3a"
      },
      "id": "KyJlIKIxYumL",
      "execution_count": 27,
      "outputs": [
        {
          "output_type": "execute_result",
          "data": {
            "text/plain": [
              "(0.7453002490449594, 0.7064231136195226, 0.7214254094372647, None)"
            ]
          },
          "metadata": {},
          "execution_count": 27
        }
      ]
    },
    {
      "cell_type": "code",
      "source": [
        "clf = classifiers['SVM']\n",
        "clf.fit(X_train, y_train)\n",
        "preds = clf.predict(X_test)\n",
        "\n",
        "precision_recall_fscore_support(y_test, preds, average='macro')"
      ],
      "metadata": {
        "colab": {
          "base_uri": "https://localhost:8080/"
        },
        "id": "-lA9yGa2Yykt",
        "outputId": "cb2894a0-aff8-4d72-b201-5492ce6a7532"
      },
      "id": "-lA9yGa2Yykt",
      "execution_count": 30,
      "outputs": [
        {
          "output_type": "execute_result",
          "data": {
            "text/plain": [
              "(0.7262245092433772, 0.5958143574626227, 0.6062805936384734, None)"
            ]
          },
          "metadata": {},
          "execution_count": 30
        }
      ]
    },
    {
      "cell_type": "code",
      "source": [
        "import matplotlib.pyplot as plt\n",
        "from sklearn.metrics import plot_confusion_matrix, confusion_matrix, ConfusionMatrixDisplay, RocCurveDisplay"
      ],
      "metadata": {
        "id": "z4aUQhPmY4-o"
      },
      "id": "z4aUQhPmY4-o",
      "execution_count": 37,
      "outputs": []
    },
    {
      "cell_type": "code",
      "source": [
        "confusion_matrix(y_test, preds)"
      ],
      "metadata": {
        "colab": {
          "base_uri": "https://localhost:8080/"
        },
        "id": "jbNfKFudZX7T",
        "outputId": "1cb31a02-febb-4c7c-c8a8-ac1cb3bdb2bf"
      },
      "id": "jbNfKFudZX7T",
      "execution_count": 36,
      "outputs": [
        {
          "output_type": "execute_result",
          "data": {
            "text/plain": [
              "array([[9515,  380],\n",
              "       [2410,  720]])"
            ]
          },
          "metadata": {},
          "execution_count": 36
        }
      ]
    },
    {
      "cell_type": "code",
      "source": [
        "cm = confusion_matrix(y_test, preds, labels=clf.classes_)\n",
        "disp = ConfusionMatrixDisplay(confusion_matrix=cm, display_labels=clf.classes_)\n",
        "disp.plot()\n",
        "plt.show()"
      ],
      "metadata": {
        "colab": {
          "base_uri": "https://localhost:8080/",
          "height": 279
        },
        "id": "MKtpYimdZcn1",
        "outputId": "75137caa-07b2-4069-8b68-9ffdbf6f6095"
      },
      "id": "MKtpYimdZcn1",
      "execution_count": 35,
      "outputs": [
        {
          "output_type": "display_data",
          "data": {
            "text/plain": [
              "<Figure size 432x288 with 2 Axes>"
            ],
            "image/png": "[encoded data removed]"
          },
          "metadata": {
            "needs_background": "light"
          }
        }
      ]
    },
    {
      "cell_type": "code",
      "source": [
        "ax = plt.gca()\n",
        "clf = classifiers['Decision Tree']\n",
        "clf2 = classifiers['Naive Bayes']\n",
        "rfc_disp = RocCurveDisplay.from_estimator(clf, X_test, y_test, ax=ax, alpha=0.8)\n",
        "svc_disp = RocCurveDisplay.from_estimator(clf2, X_test, y_test)\n",
        "svc_disp.plot(ax=ax, alpha=0.8)\n",
        "\n",
        "plt.show()"
      ],
      "metadata": {
        "colab": {
          "base_uri": "https://localhost:8080/",
          "height": 541
        },
        "id": "bnnL7ee6ZlNo",
        "outputId": "f3cf98ed-c45c-4fda-8b00-5551230de15e"
      },
      "id": "bnnL7ee6ZlNo",
      "execution_count": 38,
      "outputs": [
        {
          "output_type": "display_data",
          "data": {
            "text/plain": [
              "<Figure size 432x288 with 1 Axes>"
            ],
            "image/png": "[encoded data removed]"
          },
          "metadata": {
            "needs_background": "light"
          }
        },
        {
          "output_type": "display_data",
          "data": {
            "text/plain": [
              "<Figure size 432x288 with 1 Axes>"
            ],
            "image/png": "[encoded data removed]"
          },
          "metadata": {
            "needs_background": "light"
          }
        }
      ]
    }
  ],
  "metadata": {
    "kernelspec": {
      "display_name": "Python 3",
      "language": "python",
      "name": "python3"
    },
    "language_info": {
      "codemirror_mode": {
        "name": "ipython",
        "version": 3
      },
      "file_extension": ".py",
      "mimetype": "text/x-python",
      "name": "python",
      "nbconvert_exporter": "python",
      "pygments_lexer": "ipython3",
      "version": "3.6.9"
    },
    "colab": {
      "name": "Validação de Modelos - Aula 8.ipynb",
      "provenance": [],
      "include_colab_link": true
    }
  },
  "nbformat": 4,
  "nbformat_minor": 5
}